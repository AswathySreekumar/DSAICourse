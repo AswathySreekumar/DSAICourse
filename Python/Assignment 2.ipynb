{
 "cells": [
  {
   "cell_type": "code",
   "execution_count": 39,
   "metadata": {},
   "outputs": [
    {
     "data": {
      "text/plain": [
       "(11, [222, 33], 44, 55)"
      ]
     },
     "execution_count": 39,
     "metadata": {},
     "output_type": "execute_result"
    }
   ],
   "source": [
    "#Q1: Modify the first item (22) of a list inside a following tuple to 222\n",
    "#tuple1=(11,[22,33],44,55)\n",
    "#expected output:\n",
    "#tuple1=(11,[222,33],44,55)\n",
    "\n",
    "\n",
    "tuple1=(11,[22,33],44,55)\n",
    "lst1=list(tuple1)\n",
    "lst1[1][0]=222\n",
    "tuple(lst1)\n"
   ]
  },
  {
   "cell_type": "code",
   "execution_count": 42,
   "metadata": {},
   "outputs": [
    {
     "data": {
      "text/plain": [
       "2"
      ]
     },
     "execution_count": 42,
     "metadata": {},
     "output_type": "execute_result"
    }
   ],
   "source": [
    "#Q2: Count the number of occurences of item 50 from a tuple\n",
    "#tuple1=(50,10,60,70,50)\n",
    "\n",
    "tuple1=(50,10,60,70,50)\n",
    "count=0\n",
    "l1=list(tuple1)\n",
    "for i in l1:\n",
    "    if i==50:\n",
    "        count+=1\n",
    "count"
   ]
  },
  {
   "cell_type": "code",
   "execution_count": 40,
   "metadata": {},
   "outputs": [
    {
     "data": {
      "text/plain": [
       "(10, 20, 30, 40, 50, 60)"
      ]
     },
     "execution_count": 40,
     "metadata": {},
     "output_type": "execute_result"
    }
   ],
   "source": [
    "# Q3: Write a Python program to convert a list to a tuple\n",
    "\n",
    "lst1=[10,20,30,40,50,60]\n",
    "tuple(lst1)\n"
   ]
  },
  {
   "cell_type": "code",
   "execution_count": 27,
   "metadata": {},
   "outputs": [
    {
     "data": {
      "text/plain": [
       "{10, 20, 30, 40, 50, 60, 70}"
      ]
     },
     "execution_count": 27,
     "metadata": {},
     "output_type": "execute_result"
    }
   ],
   "source": [
    "#Q4: Returns a new set with all items from both sets by removing duplicates\n",
    "\n",
    "set1 = {10, 20, 30, 40, 50}\n",
    "set2 = {30, 40, 50, 60, 70}\n",
    "set3=set1.union(set2)\n",
    "set3"
   ]
  },
  {
   "cell_type": "code",
   "execution_count": 1,
   "metadata": {},
   "outputs": [
    {
     "name": "stdout",
     "output_type": "stream",
     "text": [
      "{'Ten': 10, 'Twenty': 20, 'Thirty': 30, 'Fourty': 40, 'Fifty': 50}\n"
     ]
    }
   ],
   "source": [
    "#Q5: Merge following two Python dictionaries into one\n",
    "#dict1={'Ten':10,'Twenty':20,'Thirty':30}\n",
    "#dict2={'Thirty':30,'Fourty':40,'Fifty':50}\n",
    "\n",
    "def mergeDict(dict1,dict2):\n",
    "    dict3={**dict1,**dict2}\n",
    "    print(dict3)\n",
    "\n",
    "dict1={'Ten':10,'Twenty':20,'Thirty':30}\n",
    "dict2={'Thirty':30,'Fourty':40,'Fifty':50}\n",
    "mergeDict(dict1,dict2)"
   ]
  },
  {
   "cell_type": "code",
   "execution_count": 11,
   "metadata": {},
   "outputs": [
    {
     "data": {
      "text/plain": [
       "{'emp1': {'name': 'jhon', 'salary': 7500},\n",
       " 'emp2': {'name': 'Emma', 'salary': 8000},\n",
       " 'emp3': {'name': 'Brad', 'salary': 8500}}"
      ]
     },
     "execution_count": 11,
     "metadata": {},
     "output_type": "execute_result"
    }
   ],
   "source": [
    "#Q6: Given a Python dictionary, Change Brad’s salary to 8500\n",
    "#SampleDict={\n",
    " #   'emp1':{'name':'jhon','salary':7500},\n",
    "  #  'emp2':{'name':'Emma','salary':8000},\n",
    "   # 'emp3':{'name':'Brad','salary':6500}\n",
    "    #       }\n",
    "\n",
    "SampleDict={\n",
    "    'emp1':{'name':'jhon','salary':7500},\n",
    "    'emp2':{'name':'Emma','salary':8000},\n",
    "    'emp3':{'name':'Brad','salary':6500}\n",
    "           }\n",
    "\n",
    "SampleDict['emp3']['salary']=8500\n",
    "SampleDict"
   ]
  },
  {
   "cell_type": "code",
   "execution_count": 37,
   "metadata": {},
   "outputs": [
    {
     "data": {
      "text/plain": [
       "{'name': 'Kelly', 'age': 25, 'salary': 8000, 'location': 'New York'}"
      ]
     },
     "execution_count": 37,
     "metadata": {},
     "output_type": "execute_result"
    }
   ],
   "source": [
    "#Q7: Rename key city to location in the following dictionary\n",
    "#sampleDict={\n",
    "#   \"name\":\"Kelly\",\n",
    "#   \"age\":25,\n",
    "#   \"salary\":8000,\n",
    "#   \"city\":\"New York\"\n",
    "#}\n",
    "\n",
    "sampleDict={\n",
    "   \"name\":\"Kelly\",\n",
    "   \"age\":25,\n",
    "   \"salary\":8000,\n",
    "   \"city\":\"New York\"\n",
    "}\n",
    "oldkey='city'\n",
    "newkey='location'\n",
    "sampleDict[newkey]=sampleDict.pop(oldkey)\n",
    "sampleDict\n"
   ]
  }
 ],
 "metadata": {
  "kernelspec": {
   "display_name": "Python 3",
   "language": "python",
   "name": "python3"
  },
  "language_info": {
   "codemirror_mode": {
    "name": "ipython",
    "version": 3
   },
   "file_extension": ".py",
   "mimetype": "text/x-python",
   "name": "python",
   "nbconvert_exporter": "python",
   "pygments_lexer": "ipython3",
   "version": "3.8.3"
  }
 },
 "nbformat": 4,
 "nbformat_minor": 4
}
